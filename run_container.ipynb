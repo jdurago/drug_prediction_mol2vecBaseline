{
 "cells": [
  {
   "cell_type": "markdown",
   "metadata": {
    "jupyter": {
     "outputs_hidden": true
    }
   },
   "source": [
    "# Push Docker Image to AWS Elastic Container Registry"
   ]
  },
  {
   "cell_type": "code",
   "execution_count": null,
   "metadata": {},
   "outputs": [],
   "source": [
    "!cd container; ./build_and_push.sh drug-prediction"
   ]
  },
  {
   "cell_type": "markdown",
   "metadata": {},
   "source": [
    "# Run Local Training Job"
   ]
  },
  {
   "cell_type": "code",
   "execution_count": 1,
   "metadata": {
    "collapsed": true,
    "jupyter": {
     "outputs_hidden": true
    }
   },
   "outputs": [
    {
     "name": "stdout",
     "output_type": "stream",
     "text": [
      "--2020-01-21 19:23:11--  https://github.com/samoturk/mol2vec/raw/master/examples/models/model_300dim.pkl\n",
      "Resolving github.com (github.com)... 192.30.255.112\n",
      "Connecting to github.com (github.com)|192.30.255.112|:443... connected.\n",
      "HTTP request sent, awaiting response... 302 Found\n",
      "Location: https://raw.githubusercontent.com/samoturk/mol2vec/master/examples/models/model_300dim.pkl [following]\n",
      "--2020-01-21 19:23:12--  https://raw.githubusercontent.com/samoturk/mol2vec/master/examples/models/model_300dim.pkl\n",
      "Resolving raw.githubusercontent.com (raw.githubusercontent.com)... 151.101.52.133\n",
      "Connecting to raw.githubusercontent.com (raw.githubusercontent.com)|151.101.52.133|:443... connected.\n",
      "HTTP request sent, awaiting response... 200 OK\n",
      "Length: 76786055 (73M) [application/octet-stream]\n",
      "Saving to: ‘data/model_300dim.pkl’\n",
      "\n",
      "data/model_300dim.p 100%[===================>]  73.23M  42.8MB/s    in 1.7s    \n",
      "\n",
      "2020-01-21 19:23:15 (42.8 MB/s) - ‘data/model_300dim.pkl’ saved [76786055/76786055]\n",
      "\n",
      "--2020-01-21 19:23:15--  http://model_300dim.pkl/\n",
      "Resolving model_300dim.pkl (model_300dim.pkl)... failed: Name or service not known.\n",
      "wget: unable to resolve host address ‘model_300dim.pkl’\n",
      "FINISHED --2020-01-21 19:23:15--\n",
      "Total wall clock time: 3.9s\n",
      "Downloaded: 1 files, 73M in 1.7s (42.8 MB/s)\n",
      "--2020-01-21 19:23:15--  https://github.com/samoturk/mol2vec/raw/master/examples/data/ames.sdf\n",
      "Resolving github.com (github.com)... 192.30.255.112\n",
      "Connecting to github.com (github.com)|192.30.255.112|:443... connected.\n",
      "HTTP request sent, awaiting response... 302 Found\n",
      "Location: https://raw.githubusercontent.com/samoturk/mol2vec/master/examples/data/ames.sdf [following]\n",
      "--2020-01-21 19:23:15--  https://raw.githubusercontent.com/samoturk/mol2vec/master/examples/data/ames.sdf\n",
      "Resolving raw.githubusercontent.com (raw.githubusercontent.com)... 151.101.52.133\n",
      "Connecting to raw.githubusercontent.com (raw.githubusercontent.com)|151.101.52.133|:443... connected.\n",
      "HTTP request sent, awaiting response... 200 OK\n",
      "Length: 10055834 (9.6M) [text/plain]\n",
      "Saving to: ‘data/ames.sdf’\n",
      "\n",
      "data/ames.sdf       100%[===================>]   9.59M  42.4MB/s    in 0.2s    \n",
      "\n",
      "2020-01-21 19:23:16 (42.4 MB/s) - ‘data/ames.sdf’ saved [10055834/10055834]\n",
      "\n",
      "--2020-01-21 19:23:16--  https://s3-us-west-1.amazonaws.com/deepchem.io/datasets/molnet_publish/hiv.zip\n",
      "Resolving s3-us-west-1.amazonaws.com (s3-us-west-1.amazonaws.com)... 52.219.112.96\n",
      "Connecting to s3-us-west-1.amazonaws.com (s3-us-west-1.amazonaws.com)|52.219.112.96|:443... connected.\n",
      "HTTP request sent, awaiting response... 200 OK\n",
      "Length: 426931 (417K) [application/zip]\n",
      "Saving to: ‘data/hiv.zip’\n",
      "\n",
      "data/hiv.zip        100%[===================>] 416.92K  --.-KB/s    in 0.09s   \n",
      "\n",
      "2020-01-21 19:23:16 (4.61 MB/s) - ‘data/hiv.zip’ saved [426931/426931]\n",
      "\n",
      "Archive:  hiv.zip\n",
      "replace HIV.csv? [y]es, [n]o, [A]ll, [N]one, [r]ename: ^C\n"
     ]
    }
   ],
   "source": [
    "# Download the dataset to local\n",
    "\n",
    "# download pretrained mol2vec model\n",
    "!wget -O data/model_300dim.pkl https://github.com/samoturk/mol2vec/raw/master/examples/models/model_300dim.pkl model_300dim.pkl   \n",
    "\n",
    "# download example data     \n",
    "!wget -O data/ames.sdf https://github.com/samoturk/mol2vec/raw/master/examples/data/ames.sdf\n",
    "    \n",
    "#download hiv data\n",
    "!wget -O data/hiv.zip https://s3-us-west-1.amazonaws.com/deepchem.io/datasets/molnet_publish/hiv.zip\n",
    "!cd data; unzip hiv.zip"
   ]
  },
  {
   "cell_type": "code",
   "execution_count": 40,
   "metadata": {},
   "outputs": [],
   "source": [
    "from sagemaker import get_execution_role\n",
    "\n",
    "role = get_execution_role()"
   ]
  },
  {
   "cell_type": "code",
   "execution_count": 41,
   "metadata": {},
   "outputs": [
    {
     "name": "stdout",
     "output_type": "stream",
     "text": [
      "Instance type = local\n"
     ]
    }
   ],
   "source": [
    "import os\n",
    "import subprocess\n",
    "\n",
    "instance_type = 'local'\n",
    "\n",
    "if subprocess.call('nvidia-smi') == 0:\n",
    "    ## Set type to GPU if one is present\n",
    "    instance_type = 'local_gpu'\n",
    "    \n",
    "print(\"Instance type = \" + instance_type)"
   ]
  },
  {
   "cell_type": "code",
   "execution_count": 42,
   "metadata": {
    "collapsed": true,
    "jupyter": {
     "outputs_hidden": true
    }
   },
   "outputs": [
    {
     "name": "stdout",
     "output_type": "stream",
     "text": [
      "Creating tmpi7nqgliu_algo-1-qvagh_1 ... \n",
      "\u001b[1BAttaching to tmpi7nqgliu_algo-1-qvagh_12mdone\u001b[0m\n",
      "\u001b[36malgo-1-qvagh_1  |\u001b[0m 2020-01-20 22:35:01,264 sagemaker-containers INFO     No GPUs detected (normal if no gpus installed)\n",
      "\u001b[36malgo-1-qvagh_1  |\u001b[0m 2020-01-20 22:35:01,265 sagemaker-containers INFO     Failed to parse hyperparameter dev-mode value True to Json.\n",
      "\u001b[36malgo-1-qvagh_1  |\u001b[0m Returning the value itself\n",
      "\u001b[36malgo-1-qvagh_1  |\u001b[0m 2020-01-20 22:35:01,280 sagemaker-containers INFO     Failed to parse hyperparameter dev-mode value True to Json.\n",
      "\u001b[36malgo-1-qvagh_1  |\u001b[0m Returning the value itself\n",
      "\u001b[36malgo-1-qvagh_1  |\u001b[0m 2020-01-20 22:35:01,283 sagemaker-containers INFO     No GPUs detected (normal if no gpus installed)\n",
      "\u001b[36malgo-1-qvagh_1  |\u001b[0m 2020-01-20 22:35:01,296 sagemaker-containers INFO     Failed to parse hyperparameter dev-mode value True to Json.\n",
      "\u001b[36malgo-1-qvagh_1  |\u001b[0m Returning the value itself\n",
      "\u001b[36malgo-1-qvagh_1  |\u001b[0m 2020-01-20 22:35:01,298 sagemaker-containers INFO     No GPUs detected (normal if no gpus installed)\n",
      "\u001b[36malgo-1-qvagh_1  |\u001b[0m 2020-01-20 22:35:01,312 sagemaker-containers INFO     Invoking user script\n",
      "\u001b[36malgo-1-qvagh_1  |\u001b[0m \n",
      "\u001b[36malgo-1-qvagh_1  |\u001b[0m Training Env:\n",
      "\u001b[36malgo-1-qvagh_1  |\u001b[0m \n",
      "\u001b[36malgo-1-qvagh_1  |\u001b[0m {\n",
      "\u001b[36malgo-1-qvagh_1  |\u001b[0m     \"additional_framework_parameters\": {},\n",
      "\u001b[36malgo-1-qvagh_1  |\u001b[0m     \"channel_input_dirs\": {\n",
      "\u001b[36malgo-1-qvagh_1  |\u001b[0m         \"training\": \"/opt/ml/input/data/training\"\n",
      "\u001b[36malgo-1-qvagh_1  |\u001b[0m     },\n",
      "\u001b[36malgo-1-qvagh_1  |\u001b[0m     \"current_host\": \"algo-1-qvagh\",\n",
      "\u001b[36malgo-1-qvagh_1  |\u001b[0m     \"framework_module\": null,\n",
      "\u001b[36malgo-1-qvagh_1  |\u001b[0m     \"hosts\": [\n",
      "\u001b[36malgo-1-qvagh_1  |\u001b[0m         \"algo-1-qvagh\"\n",
      "\u001b[36malgo-1-qvagh_1  |\u001b[0m     ],\n",
      "\u001b[36malgo-1-qvagh_1  |\u001b[0m     \"hyperparameters\": {\n",
      "\u001b[36malgo-1-qvagh_1  |\u001b[0m         \"dev-mode\": \"True\"\n",
      "\u001b[36malgo-1-qvagh_1  |\u001b[0m     },\n",
      "\u001b[36malgo-1-qvagh_1  |\u001b[0m     \"input_config_dir\": \"/opt/ml/input/config\",\n",
      "\u001b[36malgo-1-qvagh_1  |\u001b[0m     \"input_data_config\": {\n",
      "\u001b[36malgo-1-qvagh_1  |\u001b[0m         \"training\": {\n",
      "\u001b[36malgo-1-qvagh_1  |\u001b[0m             \"TrainingInputMode\": \"File\"\n",
      "\u001b[36malgo-1-qvagh_1  |\u001b[0m         }\n",
      "\u001b[36malgo-1-qvagh_1  |\u001b[0m     },\n",
      "\u001b[36malgo-1-qvagh_1  |\u001b[0m     \"input_dir\": \"/opt/ml/input\",\n",
      "\u001b[36malgo-1-qvagh_1  |\u001b[0m     \"is_master\": true,\n",
      "\u001b[36malgo-1-qvagh_1  |\u001b[0m     \"job_name\": \"drug-prediction-2020-01-20-22-34-58-948\",\n",
      "\u001b[36malgo-1-qvagh_1  |\u001b[0m     \"log_level\": 20,\n",
      "\u001b[36malgo-1-qvagh_1  |\u001b[0m     \"master_hostname\": \"algo-1-qvagh\",\n",
      "\u001b[36malgo-1-qvagh_1  |\u001b[0m     \"model_dir\": \"/opt/ml/model\",\n",
      "\u001b[36malgo-1-qvagh_1  |\u001b[0m     \"module_dir\": \"/opt/ml/code\",\n",
      "\u001b[36malgo-1-qvagh_1  |\u001b[0m     \"module_name\": \"model\",\n",
      "\u001b[36malgo-1-qvagh_1  |\u001b[0m     \"network_interface_name\": \"eth0\",\n",
      "\u001b[36malgo-1-qvagh_1  |\u001b[0m     \"num_cpus\": 2,\n",
      "\u001b[36malgo-1-qvagh_1  |\u001b[0m     \"num_gpus\": 0,\n",
      "\u001b[36malgo-1-qvagh_1  |\u001b[0m     \"output_data_dir\": \"/opt/ml/output/data\",\n",
      "\u001b[36malgo-1-qvagh_1  |\u001b[0m     \"output_dir\": \"/opt/ml/output\",\n",
      "\u001b[36malgo-1-qvagh_1  |\u001b[0m     \"output_intermediate_dir\": \"/opt/ml/output/intermediate\",\n",
      "\u001b[36malgo-1-qvagh_1  |\u001b[0m     \"resource_config\": {\n",
      "\u001b[36malgo-1-qvagh_1  |\u001b[0m         \"current_host\": \"algo-1-qvagh\",\n",
      "\u001b[36malgo-1-qvagh_1  |\u001b[0m         \"hosts\": [\n",
      "\u001b[36malgo-1-qvagh_1  |\u001b[0m             \"algo-1-qvagh\"\n",
      "\u001b[36malgo-1-qvagh_1  |\u001b[0m         ]\n",
      "\u001b[36malgo-1-qvagh_1  |\u001b[0m     },\n",
      "\u001b[36malgo-1-qvagh_1  |\u001b[0m     \"user_entry_point\": \"model.py\"\n",
      "\u001b[36malgo-1-qvagh_1  |\u001b[0m }\n",
      "\u001b[36malgo-1-qvagh_1  |\u001b[0m \n",
      "\u001b[36malgo-1-qvagh_1  |\u001b[0m Environment variables:\n",
      "\u001b[36malgo-1-qvagh_1  |\u001b[0m \n",
      "\u001b[36malgo-1-qvagh_1  |\u001b[0m SM_HOSTS=[\"algo-1-qvagh\"]\n",
      "\u001b[36malgo-1-qvagh_1  |\u001b[0m SM_NETWORK_INTERFACE_NAME=eth0\n",
      "\u001b[36malgo-1-qvagh_1  |\u001b[0m SM_HPS={\"dev-mode\":\"True\"}\n",
      "\u001b[36malgo-1-qvagh_1  |\u001b[0m SM_USER_ENTRY_POINT=model.py\n",
      "\u001b[36malgo-1-qvagh_1  |\u001b[0m SM_FRAMEWORK_PARAMS={}\n",
      "\u001b[36malgo-1-qvagh_1  |\u001b[0m SM_RESOURCE_CONFIG={\"current_host\":\"algo-1-qvagh\",\"hosts\":[\"algo-1-qvagh\"]}\n",
      "\u001b[36malgo-1-qvagh_1  |\u001b[0m SM_INPUT_DATA_CONFIG={\"training\":{\"TrainingInputMode\":\"File\"}}\n",
      "\u001b[36malgo-1-qvagh_1  |\u001b[0m SM_OUTPUT_DATA_DIR=/opt/ml/output/data\n",
      "\u001b[36malgo-1-qvagh_1  |\u001b[0m SM_CHANNELS=[\"training\"]\n",
      "\u001b[36malgo-1-qvagh_1  |\u001b[0m SM_CURRENT_HOST=algo-1-qvagh\n",
      "\u001b[36malgo-1-qvagh_1  |\u001b[0m SM_MODULE_NAME=model\n",
      "\u001b[36malgo-1-qvagh_1  |\u001b[0m SM_LOG_LEVEL=20\n",
      "\u001b[36malgo-1-qvagh_1  |\u001b[0m SM_FRAMEWORK_MODULE=\n",
      "\u001b[36malgo-1-qvagh_1  |\u001b[0m SM_INPUT_DIR=/opt/ml/input\n",
      "\u001b[36malgo-1-qvagh_1  |\u001b[0m SM_INPUT_CONFIG_DIR=/opt/ml/input/config\n",
      "\u001b[36malgo-1-qvagh_1  |\u001b[0m SM_OUTPUT_DIR=/opt/ml/output\n",
      "\u001b[36malgo-1-qvagh_1  |\u001b[0m SM_NUM_CPUS=2\n",
      "\u001b[36malgo-1-qvagh_1  |\u001b[0m SM_NUM_GPUS=0\n",
      "\u001b[36malgo-1-qvagh_1  |\u001b[0m SM_MODEL_DIR=/opt/ml/model\n",
      "\u001b[36malgo-1-qvagh_1  |\u001b[0m SM_MODULE_DIR=/opt/ml/code\n",
      "\u001b[36malgo-1-qvagh_1  |\u001b[0m SM_TRAINING_ENV={\"additional_framework_parameters\":{},\"channel_input_dirs\":{\"training\":\"/opt/ml/input/data/training\"},\"current_host\":\"algo-1-qvagh\",\"framework_module\":null,\"hosts\":[\"algo-1-qvagh\"],\"hyperparameters\":{\"dev-mode\":\"True\"},\"input_config_dir\":\"/opt/ml/input/config\",\"input_data_config\":{\"training\":{\"TrainingInputMode\":\"File\"}},\"input_dir\":\"/opt/ml/input\",\"is_master\":true,\"job_name\":\"drug-prediction-2020-01-20-22-34-58-948\",\"log_level\":20,\"master_hostname\":\"algo-1-qvagh\",\"model_dir\":\"/opt/ml/model\",\"module_dir\":\"/opt/ml/code\",\"module_name\":\"model\",\"network_interface_name\":\"eth0\",\"num_cpus\":2,\"num_gpus\":0,\"output_data_dir\":\"/opt/ml/output/data\",\"output_dir\":\"/opt/ml/output\",\"output_intermediate_dir\":\"/opt/ml/output/intermediate\",\"resource_config\":{\"current_host\":\"algo-1-qvagh\",\"hosts\":[\"algo-1-qvagh\"]},\"user_entry_point\":\"model.py\"}\n",
      "\u001b[36malgo-1-qvagh_1  |\u001b[0m SM_USER_ARGS=[\"--dev-mode\",\"True\"]\n",
      "\u001b[36malgo-1-qvagh_1  |\u001b[0m SM_OUTPUT_INTERMEDIATE_DIR=/opt/ml/output/intermediate\n",
      "\u001b[36malgo-1-qvagh_1  |\u001b[0m SM_CHANNEL_TRAINING=/opt/ml/input/data/training\n",
      "\u001b[36malgo-1-qvagh_1  |\u001b[0m SM_HP_DEV-MODE=True\n",
      "\u001b[36malgo-1-qvagh_1  |\u001b[0m PYTHONPATH=/opt/ml/code:/opt/conda/bin:/opt/conda/lib/python37.zip:/opt/conda/lib/python3.7:/opt/conda/lib/python3.7/lib-dynload:/opt/conda/lib/python3.7/site-packages\n",
      "\u001b[36malgo-1-qvagh_1  |\u001b[0m \n",
      "\u001b[36malgo-1-qvagh_1  |\u001b[0m Invoking script with the following command:\n",
      "\u001b[36malgo-1-qvagh_1  |\u001b[0m \n",
      "\u001b[36malgo-1-qvagh_1  |\u001b[0m /opt/conda/bin/python model.py --dev-mode True\n",
      "\u001b[36malgo-1-qvagh_1  |\u001b[0m \n",
      "\u001b[36malgo-1-qvagh_1  |\u001b[0m \n",
      "\u001b[36malgo-1-qvagh_1  |\u001b[0m /opt/conda/lib/python3.7/site-packages/sklearn/externals/joblib/__init__.py:15: DeprecationWarning: sklearn.externals.joblib is deprecated in 0.21 and will be removed in 0.23. Please import this functionality directly from joblib, which can be installed with: pip install joblib. If this warning is raised when loading pickled models, you may need to re-serialize those models with scikit-learn 0.21+.\n",
      "\u001b[36malgo-1-qvagh_1  |\u001b[0m   warnings.warn(msg, category=DeprecationWarning)\n",
      "\u001b[36malgo-1-qvagh_1  |\u001b[0m Download Data...\n",
      "\u001b[36malgo-1-qvagh_1  |\u001b[0m Start Training...\n",
      "\u001b[36malgo-1-qvagh_1  |\u001b[0m Training Complete\n",
      "\u001b[36malgo-1-qvagh_1  |\u001b[0m Mean AUC: 0.860075504681393, Standard Devication AUC: 0.00527457508399064\n",
      "\u001b[36malgo-1-qvagh_1  |\u001b[0m 2020-01-20 22:36:06,648 sagemaker-containers INFO     Reporting training SUCCESS\n",
      "\u001b[36mtmpi7nqgliu_algo-1-qvagh_1 exited with code 0\n",
      "\u001b[0mAborting on container exit...\n",
      "===== Job Complete =====\n"
     ]
    }
   ],
   "source": [
    "from sagemaker.estimator import Estimator\n",
    "\n",
    "hyperparameters = {'dev-mode': True}\n",
    "\n",
    "estimator = Estimator(role=role,\n",
    "                      train_instance_count=1,\n",
    "                      train_instance_type=instance_type,\n",
    "                      image_name='drug-prediction:latest',\n",
    "                      hyperparameters=hyperparameters)\n",
    "\n",
    "estimator.fit('file:///home/ec2-user/SageMaker/baseline/data')"
   ]
  },
  {
   "cell_type": "markdown",
   "metadata": {},
   "source": [
    "# Run A Sagemaker Training Job"
   ]
  },
  {
   "cell_type": "code",
   "execution_count": 47,
   "metadata": {},
   "outputs": [],
   "source": [
    "import sagemaker as sage\n",
    "\n",
    "sess = sage.Session()"
   ]
  },
  {
   "cell_type": "code",
   "execution_count": 48,
   "metadata": {},
   "outputs": [
    {
     "name": "stdout",
     "output_type": "stream",
     "text": [
      "405787280505.dkr.ecr.us-west-2.amazonaws.com/drug-prediction:latest\n"
     ]
    }
   ],
   "source": [
    "import boto3\n",
    "\n",
    "client = boto3.client('sts')\n",
    "account = client.get_caller_identity()['Account']\n",
    "\n",
    "my_session = boto3.session.Session()\n",
    "region = my_session.region_name\n",
    "\n",
    "algorithm_name = 'drug-prediction'\n",
    "\n",
    "ecr_image = '{}.dkr.ecr.{}.amazonaws.com/{}:latest'.format(account, region, algorithm_name)\n",
    "\n",
    "print(ecr_image)"
   ]
  },
  {
   "cell_type": "code",
   "execution_count": 49,
   "metadata": {},
   "outputs": [
    {
     "name": "stdout",
     "output_type": "stream",
     "text": [
      "2020-01-20 23:01:13 Starting - Starting the training job...\n",
      "2020-01-20 23:01:15 Starting - Launching requested ML instances......\n",
      "2020-01-20 23:02:17 Starting - Preparing the instances for training...\n",
      "2020-01-20 23:03:00 Downloading - Downloading input data\n",
      "2020-01-20 23:03:00 Training - Downloading the training image.....\u001b[34m2020-01-20 23:03:46,055 sagemaker-containers INFO     No GPUs detected (normal if no gpus installed)\u001b[0m\n",
      "\u001b[34m2020-01-20 23:03:46,056 sagemaker-containers INFO     Failed to parse hyperparameter dev-mode value False to Json.\u001b[0m\n",
      "\u001b[34mReturning the value itself\u001b[0m\n",
      "\u001b[34m2020-01-20 23:03:47,517 sagemaker-containers INFO     Failed to parse hyperparameter dev-mode value False to Json.\u001b[0m\n",
      "\u001b[34mReturning the value itself\u001b[0m\n",
      "\u001b[34m2020-01-20 23:03:47,520 sagemaker-containers INFO     No GPUs detected (normal if no gpus installed)\u001b[0m\n",
      "\u001b[34m2020-01-20 23:03:47,530 sagemaker-containers INFO     Failed to parse hyperparameter dev-mode value False to Json.\u001b[0m\n",
      "\u001b[34mReturning the value itself\u001b[0m\n",
      "\u001b[34m2020-01-20 23:03:47,532 sagemaker-containers INFO     No GPUs detected (normal if no gpus installed)\u001b[0m\n",
      "\u001b[34m2020-01-20 23:03:47,543 sagemaker-containers INFO     Invoking user script\n",
      "\u001b[0m\n",
      "\u001b[34mTraining Env:\n",
      "\u001b[0m\n",
      "\u001b[34m{\n",
      "    \"additional_framework_parameters\": {},\n",
      "    \"channel_input_dirs\": {\n",
      "        \"training\": \"/opt/ml/input/data/training\"\n",
      "    },\n",
      "    \"current_host\": \"algo-1\",\n",
      "    \"framework_module\": null,\n",
      "    \"hosts\": [\n",
      "        \"algo-1\"\n",
      "    ],\n",
      "    \"hyperparameters\": {\n",
      "        \"dev-mode\": \"False\"\n",
      "    },\n",
      "    \"input_config_dir\": \"/opt/ml/input/config\",\n",
      "    \"input_data_config\": {\n",
      "        \"training\": {\n",
      "            \"TrainingInputMode\": \"File\",\n",
      "            \"S3DistributionType\": \"FullyReplicated\",\n",
      "            \"RecordWrapperType\": \"None\"\n",
      "        }\n",
      "    },\n",
      "    \"input_dir\": \"/opt/ml/input\",\n",
      "    \"is_master\": true,\n",
      "    \"job_name\": \"drug-prediction-2020-01-20-23-01-12-938\",\n",
      "    \"log_level\": 20,\n",
      "    \"master_hostname\": \"algo-1\",\n",
      "    \"model_dir\": \"/opt/ml/model\",\n",
      "    \"module_dir\": \"/opt/ml/code\",\n",
      "    \"module_name\": \"model\",\n",
      "    \"network_interface_name\": \"eth0\",\n",
      "    \"num_cpus\": 16,\n",
      "    \"num_gpus\": 0,\n",
      "    \"output_data_dir\": \"/opt/ml/output/data\",\n",
      "    \"output_dir\": \"/opt/ml/output\",\n",
      "    \"output_intermediate_dir\": \"/opt/ml/output/intermediate\",\n",
      "    \"resource_config\": {\n",
      "        \"current_host\": \"algo-1\",\n",
      "        \"hosts\": [\n",
      "            \"algo-1\"\n",
      "        ],\n",
      "        \"network_interface_name\": \"eth0\"\n",
      "    },\n",
      "    \"user_entry_point\": \"model.py\"\u001b[0m\n",
      "\u001b[34m}\n",
      "\u001b[0m\n",
      "\u001b[34mEnvironment variables:\n",
      "\u001b[0m\n",
      "\u001b[34mSM_HOSTS=[\"algo-1\"]\u001b[0m\n",
      "\u001b[34mSM_NETWORK_INTERFACE_NAME=eth0\u001b[0m\n",
      "\u001b[34mSM_HPS={\"dev-mode\":\"False\"}\u001b[0m\n",
      "\u001b[34mSM_USER_ENTRY_POINT=model.py\u001b[0m\n",
      "\u001b[34mSM_FRAMEWORK_PARAMS={}\u001b[0m\n",
      "\u001b[34mSM_RESOURCE_CONFIG={\"current_host\":\"algo-1\",\"hosts\":[\"algo-1\"],\"network_interface_name\":\"eth0\"}\u001b[0m\n",
      "\u001b[34mSM_INPUT_DATA_CONFIG={\"training\":{\"RecordWrapperType\":\"None\",\"S3DistributionType\":\"FullyReplicated\",\"TrainingInputMode\":\"File\"}}\u001b[0m\n",
      "\u001b[34mSM_OUTPUT_DATA_DIR=/opt/ml/output/data\u001b[0m\n",
      "\u001b[34mSM_CHANNELS=[\"training\"]\u001b[0m\n",
      "\u001b[34mSM_CURRENT_HOST=algo-1\u001b[0m\n",
      "\u001b[34mSM_MODULE_NAME=model\u001b[0m\n",
      "\u001b[34mSM_LOG_LEVEL=20\u001b[0m\n",
      "\u001b[34mSM_FRAMEWORK_MODULE=\u001b[0m\n",
      "\u001b[34mSM_INPUT_DIR=/opt/ml/input\u001b[0m\n",
      "\u001b[34mSM_INPUT_CONFIG_DIR=/opt/ml/input/config\u001b[0m\n",
      "\u001b[34mSM_OUTPUT_DIR=/opt/ml/output\u001b[0m\n",
      "\u001b[34mSM_NUM_CPUS=16\u001b[0m\n",
      "\u001b[34mSM_NUM_GPUS=0\u001b[0m\n",
      "\u001b[34mSM_MODEL_DIR=/opt/ml/model\u001b[0m\n",
      "\u001b[34mSM_MODULE_DIR=/opt/ml/code\u001b[0m\n",
      "\u001b[34mSM_TRAINING_ENV={\"additional_framework_parameters\":{},\"channel_input_dirs\":{\"training\":\"/opt/ml/input/data/training\"},\"current_host\":\"algo-1\",\"framework_module\":null,\"hosts\":[\"algo-1\"],\"hyperparameters\":{\"dev-mode\":\"False\"},\"input_config_dir\":\"/opt/ml/input/config\",\"input_data_config\":{\"training\":{\"RecordWrapperType\":\"None\",\"S3DistributionType\":\"FullyReplicated\",\"TrainingInputMode\":\"File\"}},\"input_dir\":\"/opt/ml/input\",\"is_master\":true,\"job_name\":\"drug-prediction-2020-01-20-23-01-12-938\",\"log_level\":20,\"master_hostname\":\"algo-1\",\"model_dir\":\"/opt/ml/model\",\"module_dir\":\"/opt/ml/code\",\"module_name\":\"model\",\"network_interface_name\":\"eth0\",\"num_cpus\":16,\"num_gpus\":0,\"output_data_dir\":\"/opt/ml/output/data\",\"output_dir\":\"/opt/ml/output\",\"output_intermediate_dir\":\"/opt/ml/output/intermediate\",\"resource_config\":{\"current_host\":\"algo-1\",\"hosts\":[\"algo-1\"],\"network_interface_name\":\"eth0\"},\"user_entry_point\":\"model.py\"}\u001b[0m\n",
      "\u001b[34mSM_USER_ARGS=[\"--dev-mode\",\"False\"]\u001b[0m\n",
      "\u001b[34mSM_OUTPUT_INTERMEDIATE_DIR=/opt/ml/output/intermediate\u001b[0m\n",
      "\u001b[34mSM_CHANNEL_TRAINING=/opt/ml/input/data/training\u001b[0m\n",
      "\u001b[34mSM_HP_DEV-MODE=False\u001b[0m\n",
      "\u001b[34mPYTHONPATH=/opt/ml/code:/opt/conda/bin:/opt/conda/lib/python37.zip:/opt/conda/lib/python3.7:/opt/conda/lib/python3.7/lib-dynload:/opt/conda/lib/python3.7/site-packages\n",
      "\u001b[0m\n",
      "\u001b[34mInvoking script with the following command:\n",
      "\u001b[0m\n",
      "\u001b[34m/opt/conda/bin/python model.py --dev-mode False\n",
      "\n",
      "\u001b[0m\n",
      "\n",
      "2020-01-20 23:03:45 Training - Training image download completed. Training in progress.\u001b[34m[23:04:13] WARNING: not removing hydrogen atom without neighbors\u001b[0m\n",
      "\u001b[34m[23:04:13] WARNING: not removing hydrogen atom without neighbors\u001b[0m\n",
      "\u001b[34m/opt/conda/lib/python3.7/site-packages/sklearn/externals/joblib/__init__.py:15: DeprecationWarning: sklearn.externals.joblib is deprecated in 0.21 and will be removed in 0.23. Please import this functionality directly from joblib, which can be installed with: pip install joblib. If this warning is raised when loading pickled models, you may need to re-serialize those models with scikit-learn 0.21+.\n",
      "  warnings.warn(msg, category=DeprecationWarning)\u001b[0m\n",
      "\u001b[34mRDKit WARNING: [23:04:13] WARNING: not removing hydrogen atom without neighbors\u001b[0m\n",
      "\u001b[34mRDKit WARNING: [23:04:13] WARNING: not removing hydrogen atom without neighbors\u001b[0m\n",
      "\u001b[34mDownload Data...\u001b[0m\n",
      "\u001b[34mUsing Actual Data...\u001b[0m\n",
      "\u001b[34mStart Training...\u001b[0m\n",
      "\u001b[34mTraining Complete\u001b[0m\n",
      "\u001b[34mMean AUC: 0.808498776554647, Standard Devication AUC: 0.017758032204272287\u001b[0m\n",
      "\u001b[34m2020-01-20 23:06:46,769 sagemaker-containers INFO     Reporting training SUCCESS\u001b[0m\n",
      "\n",
      "2020-01-20 23:06:54 Uploading - Uploading generated training model\n",
      "2020-01-20 23:06:54 Completed - Training job completed\n",
      "Training seconds: 240\n",
      "Billable seconds: 240\n"
     ]
    }
   ],
   "source": [
    "from sagemaker.estimator import Estimator\n",
    "\n",
    "data_location = 's3://jdurago-insight-2020a/data'\n",
    "output_path = 's3://jdurago-insight-2020a/output/baseline/'\n",
    "max_run_time = 3*60*60 # train for max of 3 hours\n",
    "hyperparameters = {'dev-mode': False}\n",
    "\n",
    "# instance_type = 'ml.p2.xlarge'\n",
    "instance_type = 'ml.m5.4xlarge'\n",
    "\n",
    "estimator = Estimator(role=role,\n",
    "                      train_instance_count=1,\n",
    "                      train_instance_type=instance_type,\n",
    "                      image_name=ecr_image,\n",
    "                      hyperparameters=hyperparameters,\n",
    "                     output_path = output_path,\n",
    "                     train_max_run=max_run_time)\n",
    "\n",
    "estimator.fit(data_location)\n"
   ]
  },
  {
   "cell_type": "code",
   "execution_count": null,
   "metadata": {},
   "outputs": [],
   "source": []
  }
 ],
 "metadata": {
  "kernelspec": {
   "display_name": "conda_pytorch_p36",
   "language": "python",
   "name": "conda_pytorch_p36"
  },
  "language_info": {
   "codemirror_mode": {
    "name": "ipython",
    "version": 3
   },
   "file_extension": ".py",
   "mimetype": "text/x-python",
   "name": "python",
   "nbconvert_exporter": "python",
   "pygments_lexer": "ipython3",
   "version": "3.6.5"
  }
 },
 "nbformat": 4,
 "nbformat_minor": 4
}
